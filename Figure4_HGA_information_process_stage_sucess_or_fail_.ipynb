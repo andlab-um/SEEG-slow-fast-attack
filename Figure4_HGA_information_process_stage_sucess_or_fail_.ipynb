{
 "cells": [
  {
   "cell_type": "code",
   "execution_count": 1,
   "metadata": {},
   "outputs": [],
   "source": [
    "\n",
    "import matplotlib.pyplot as plt\n",
    "import nibabel as nib\n",
    "import pandas as pd\n",
    "import numpy as np\n",
    "import scipy.io \n",
    "import mne\n",
    "import os\n",
    "import sys\n",
    "sys.path.insert(0, 'E:/workspace/my_py_toolbox/') \n",
    "from hm_tools import *\n",
    "\n",
    "in_path = r\"E:/workspace/sEEG_slow_fast_attack/roi_data/vmpfc/\" # 分析哪个roi就输入哪个文件夹的数据\n",
    "\n",
    "subjects = [104, 108, 116, 117, 119, 120] # vmpfc \n",
    "# subjects = [104, 108, 109, 112, 113, 116, 117, 119, 120, 124]  # hippo \n",
    "# subjects = [109, 116, 119, 120, 122] # striatum  \n",
    "\n",
    "\n",
    "\n",
    "def gaussian_filter(data, time_span=50, fs=1000, axis=-1):\n",
    "\n",
    "    # time_span: the length of the window (ms)\n",
    "    from scipy import signal, ndimage\n",
    "\n",
    "    winsize = time_span * fs / 1000\n",
    "\n",
    "    # create a window(kernel) with value follow a gaussian distrubution\n",
    "    window = signal.gaussian(winsize,std = int((winsize)/5) ) # Note! In matlab function 'gausswin',the parameter is α(defaut = 2.5), here is std, std = winsize/2α\n",
    "\n",
    "    # Make the sum of the window = 1\n",
    "    gusWin = window/sum(window)\n",
    "\n",
    "    # convolve the last dimension\n",
    "    data_filtered = ndimage.convolve1d(input=data, weights=gusWin, axis=axis, mode='nearest', origin=0)\n",
    "\n",
    "    return data_filtered"
   ]
  },
  {
   "cell_type": "code",
   "execution_count": 2,
   "metadata": {},
   "outputs": [
    {
     "name": "stdout",
     "output_type": "stream",
     "text": [
      "Extracting parameters from E:/workspace/sEEG_slow_fast_attack/roi_data/vmpfc/104.set...\n"
     ]
    },
    {
     "name": "stdout",
     "output_type": "stream",
     "text": [
      "Not setting metadata\n",
      "Not setting metadata\n",
      "80 matching events found\n",
      "No baseline correction applied\n",
      "0 projection items activated\n",
      "Ready.\n"
     ]
    },
    {
     "name": "stderr",
     "output_type": "stream",
     "text": [
      "<ipython-input-2-1103f430dc0b>:18: RuntimeWarning: At least one epoch has multiple events. Only the latency of the first event will be retained.\n",
      "  ROI_epochs = mne.read_epochs_eeglab(in_path + str(subjects[i]) + '.set')\n"
     ]
    },
    {
     "name": "stdout",
     "output_type": "stream",
     "text": [
      "Applying baseline correction (mode: logratio)\n",
      "Applying baseline correction (mode: logratio)\n",
      "(6, 4500)\n",
      "Extracting parameters from E:/workspace/sEEG_slow_fast_attack/roi_data/vmpfc/108.set...\n",
      "Not setting metadata\n",
      "Not setting metadata\n",
      "80 matching events found\n",
      "No baseline correction applied\n",
      "0 projection items activated\n",
      "Ready.\n"
     ]
    },
    {
     "name": "stderr",
     "output_type": "stream",
     "text": [
      "<ipython-input-2-1103f430dc0b>:18: RuntimeWarning: At least one epoch has multiple events. Only the latency of the first event will be retained.\n",
      "  ROI_epochs = mne.read_epochs_eeglab(in_path + str(subjects[i]) + '.set')\n"
     ]
    },
    {
     "name": "stdout",
     "output_type": "stream",
     "text": [
      "Applying baseline correction (mode: logratio)\n",
      "Applying baseline correction (mode: logratio)\n",
      "(5, 4500)\n",
      "Extracting parameters from E:/workspace/sEEG_slow_fast_attack/roi_data/vmpfc/116.set...\n",
      "Not setting metadata\n",
      "Not setting metadata\n",
      "80 matching events found\n",
      "No baseline correction applied\n",
      "0 projection items activated\n",
      "Ready.\n"
     ]
    },
    {
     "name": "stderr",
     "output_type": "stream",
     "text": [
      "<ipython-input-2-1103f430dc0b>:18: RuntimeWarning: At least one epoch has multiple events. Only the latency of the first event will be retained.\n",
      "  ROI_epochs = mne.read_epochs_eeglab(in_path + str(subjects[i]) + '.set')\n"
     ]
    },
    {
     "name": "stdout",
     "output_type": "stream",
     "text": [
      "Applying baseline correction (mode: logratio)\n",
      "Applying baseline correction (mode: logratio)\n",
      "(15, 4500)\n",
      "Extracting parameters from E:/workspace/sEEG_slow_fast_attack/roi_data/vmpfc/117.set...\n",
      "Not setting metadata\n",
      "Not setting metadata\n",
      "80 matching events found\n",
      "No baseline correction applied\n",
      "0 projection items activated\n",
      "Ready.\n"
     ]
    },
    {
     "name": "stderr",
     "output_type": "stream",
     "text": [
      "<ipython-input-2-1103f430dc0b>:18: RuntimeWarning: At least one epoch has multiple events. Only the latency of the first event will be retained.\n",
      "  ROI_epochs = mne.read_epochs_eeglab(in_path + str(subjects[i]) + '.set')\n"
     ]
    },
    {
     "name": "stdout",
     "output_type": "stream",
     "text": [
      "Applying baseline correction (mode: logratio)\n",
      "Applying baseline correction (mode: logratio)\n",
      "(20, 4500)\n",
      "Extracting parameters from E:/workspace/sEEG_slow_fast_attack/roi_data/vmpfc/119.set...\n",
      "Not setting metadata\n",
      "Not setting metadata\n",
      "80 matching events found\n",
      "No baseline correction applied\n",
      "0 projection items activated\n",
      "Ready.\n"
     ]
    },
    {
     "name": "stderr",
     "output_type": "stream",
     "text": [
      "<ipython-input-2-1103f430dc0b>:18: RuntimeWarning: At least one epoch has multiple events. Only the latency of the first event will be retained.\n",
      "  ROI_epochs = mne.read_epochs_eeglab(in_path + str(subjects[i]) + '.set')\n"
     ]
    },
    {
     "name": "stdout",
     "output_type": "stream",
     "text": [
      "Applying baseline correction (mode: logratio)\n",
      "Applying baseline correction (mode: logratio)\n",
      "(24, 4500)\n",
      "Extracting parameters from E:/workspace/sEEG_slow_fast_attack/roi_data/vmpfc/120.set...\n",
      "Not setting metadata\n",
      "Not setting metadata\n",
      "80 matching events found\n",
      "No baseline correction applied\n",
      "0 projection items activated\n",
      "Ready.\n"
     ]
    },
    {
     "name": "stderr",
     "output_type": "stream",
     "text": [
      "<ipython-input-2-1103f430dc0b>:18: RuntimeWarning: At least one epoch has multiple events. Only the latency of the first event will be retained.\n",
      "  ROI_epochs = mne.read_epochs_eeglab(in_path + str(subjects[i]) + '.set')\n"
     ]
    },
    {
     "name": "stdout",
     "output_type": "stream",
     "text": [
      "Applying baseline correction (mode: logratio)\n",
      "Applying baseline correction (mode: logratio)\n",
      "(39, 4500)\n"
     ]
    }
   ],
   "source": [
    "from mne.time_frequency import tfr_morlet\n",
    "\n",
    "# fast escaped trials '1/5/6'\n",
    "# fast captured trials '2/5/7/8'\n",
    "# slow escaped trials '3/5/6'\n",
    "# slow premature trials '10/5/6'\n",
    "# slow captured trials '4/5/7/8'\n",
    "\n",
    "freqs=np.arange(70, 120, 5)\n",
    "\n",
    "n_cycles=10\n",
    "time_span = 100\n",
    "ch_names = []\n",
    "all_smooth_hgb_fast_data=[]\n",
    "for i in range(len(subjects)):\n",
    "\n",
    "    # import the data\n",
    "    ROI_epochs = mne.read_epochs_eeglab(in_path + str(subjects[i]) + '.set')\n",
    "\n",
    "    # correct some wrong event number\n",
    "    if subjects[i]==108:\n",
    "        ROI_epochs.events[61, 2] = 3\n",
    "    if subjects[i]==119:\n",
    "        ROI_epochs.events[49, 2] = 1\n",
    "    if subjects[i]==109:\n",
    "        ROI_epochs.events[4, 2] = 1\n",
    "\n",
    "        \n",
    "    # fast escaped or captured\n",
    "    tfr_ROI_epoch_fast = tfr_morlet(ROI_epochs['1/5/6'], freqs, n_cycles=n_cycles, return_itc=False, average = True, use_fft=True)\n",
    "    tfr_ROI_epoch_slow = tfr_morlet(ROI_epochs['2/5/7/8'], freqs, n_cycles=n_cycles, return_itc=False, average = True, use_fft=True)\n",
    "    # slow escaped or premature\n",
    "    # tfr_ROI_epoch_fast = tfr_morlet(ROI_epochs['3/5/6'], freqs, n_cycles=n_cycles, return_itc=False, average = True, use_fft=True)\n",
    "    # tfr_ROI_epoch_slow = tfr_morlet(ROI_epochs['10/5/6'], freqs, n_cycles=n_cycles, return_itc=False, average = True, use_fft=True)\n",
    "\n",
    "    tfr_ROI_epoch_fast.apply_baseline(mode='logratio', baseline=(-0.10, 0)) # 'mean' | 'ratio' | 'logratio' | 'percent' | 'zscore' | 'zlogratio'\n",
    "    tfr_ROI_epoch_slow.apply_baseline(mode='logratio', baseline=(-0.10, 0)) # 'mean' | 'ratio' | 'logratio' | 'percent' | 'zscore' | 'zlogratio'\n",
    "\n",
    "    smooth_hgb_fast_data = gaussian_filter(data=np.mean(tfr_ROI_epoch_fast.data,axis=1), time_span=time_span, fs=ROI_epochs.info['sfreq'])\n",
    "    smooth_hgb_slow_data = gaussian_filter(data=np.mean(tfr_ROI_epoch_slow.data,axis=1), time_span=time_span, fs=ROI_epochs.info['sfreq'])\n",
    "\n",
    "\n",
    "    \n",
    "    if i == 0:\n",
    "        all_smooth_hgb_fast_data = smooth_hgb_fast_data\n",
    "        all_smooth_hgb_slow_data = smooth_hgb_slow_data\n",
    "        ch_names = np.array(ROI_epochs.ch_names)\n",
    "    else:\n",
    "        all_smooth_hgb_fast_data = np.vstack((all_smooth_hgb_fast_data, smooth_hgb_fast_data))\n",
    "        all_smooth_hgb_slow_data = np.vstack((all_smooth_hgb_slow_data, smooth_hgb_slow_data))\n",
    "        ch_names = np.hstack((ch_names, np.array(ROI_epochs.ch_names)))\n",
    "    \n",
    "    print(smooth_hgb_slow_data.shape)"
   ]
  },
  {
   "cell_type": "code",
   "execution_count": null,
   "metadata": {},
   "outputs": [],
   "source": []
  },
  {
   "cell_type": "code",
   "execution_count": 3,
   "metadata": {},
   "outputs": [
    {
     "name": "stdout",
     "output_type": "stream",
     "text": [
      "Applying baseline correction (mode: mean)\n",
      "Applying baseline correction (mode: mean)\n",
      "Using a threshold of 1.982173\n",
      "stat_fun(H1): min=-4.772624 max=1.591000\n",
      "Running initial clustering\n",
      "Found 4 clusters\n"
     ]
    },
    {
     "name": "stderr",
     "output_type": "stream",
     "text": [
      "<ipython-input-3-5d0ff6948f6c>:2: RuntimeWarning: Channel names are not unique, found duplicates for: {'MF4', \"MF'12\", 'MF3', \"bOB'7\", 'bOB3', 'bOB7', \"bOB'1\", \"bOB'2\", \"MF'2\", \"MF'8\", \"MF'6\", \"bOB'6\", \"MF'3\", 'bOB2', \"bOB'3\", 'bOB6', 'bOB4', 'MF2', \"MF'4\", \"MF'9\", 'bOB1', \"bOB'5\", \"MF'11\", \"MF'1\", \"MF'10\", \"bOB'4\", \"MF'7\", \"MF'5\", 'bOB5'}. Applying running numbers for duplicates.\n",
      "  info = mne.create_info(ch_names = list(ch_names), ch_types = 'eeg', sfreq = 1000)\n"
     ]
    },
    {
     "name": "stdout",
     "output_type": "stream",
     "text": [
      "Permuting 9999 times...\n"
     ]
    },
    {
     "name": "stderr",
     "output_type": "stream",
     "text": [
      "100%|██████████|  : 9999/9999 [00:04<00:00, 2400.30it/s]\n"
     ]
    },
    {
     "name": "stdout",
     "output_type": "stream",
     "text": [
      "Computing cluster p-values\n",
      "Done.\n",
      "Using a threshold of 1.982173\n",
      "stat_fun(H1): min=-2.369799 max=3.132807\n",
      "Running initial clustering\n",
      "Found 4 clusters\n",
      "Permuting 9999 times...\n"
     ]
    },
    {
     "name": "stderr",
     "output_type": "stream",
     "text": [
      "100%|██████████|  : 9999/9999 [00:02<00:00, 3333.22it/s]"
     ]
    },
    {
     "name": "stdout",
     "output_type": "stream",
     "text": [
      "Computing cluster p-values\n",
      "Done.\n",
      "Using a threshold of 3.884870\n"
     ]
    },
    {
     "name": "stderr",
     "output_type": "stream",
     "text": [
      "\n",
      "<ipython-input-3-5d0ff6948f6c>:28: RuntimeWarning: Ignoring argument \"tail\", performing 1-tailed F-test\n",
      "  T_obs, clusters, cluster_p_values, H0 = mne.stats.permutation_cluster_test([all_smooth_hgb_slow_crop.data, all_smooth_hgb_fast_crop.data],\n"
     ]
    },
    {
     "name": "stdout",
     "output_type": "stream",
     "text": [
      "stat_fun(H1): min=0.000003 max=17.313857\n",
      "Running initial clustering\n",
      "Found 7 clusters\n",
      "Permuting 9999 times...\n"
     ]
    },
    {
     "name": "stderr",
     "output_type": "stream",
     "text": [
      "100%|██████████|  : 9999/9999 [00:05<00:00, 1807.56it/s]\n"
     ]
    },
    {
     "name": "stdout",
     "output_type": "stream",
     "text": [
      "Computing cluster p-values\n",
      "Done.\n"
     ]
    }
   ],
   "source": [
    "# create a new epochs info\n",
    "info = mne.create_info(ch_names = list(ch_names), ch_types = 'eeg', sfreq = 1000)\n",
    "\n",
    "# create a new ROI based epochs\n",
    "all_smooth_hgb_fast = mne.EvokedArray(data = all_smooth_hgb_fast_data, info = info, tmin=-0.5)\n",
    "all_smooth_hgb_slow = mne.EvokedArray(data = all_smooth_hgb_slow_data, info = info, tmin=-0.5)\n",
    "all_smooth_hgb_fast.apply_baseline(baseline=(-0.1, 0))\n",
    "all_smooth_hgb_slow.apply_baseline(baseline=(-0.1, 0))\n",
    "\n",
    "times = all_smooth_hgb_slow.times\n",
    "\n",
    "all_smooth_hgb_fast = all_smooth_hgb_fast.crop(-0.1, 1.0)\n",
    "all_smooth_hgb_slow = all_smooth_hgb_slow.crop(-0.1, 1.0)\n",
    "\n",
    "all_smooth_hgb_fast_crop = all_smooth_hgb_fast\n",
    "all_smooth_hgb_slow_crop = all_smooth_hgb_slow\n",
    "\n",
    "n_permutations = 10000\n",
    "\n",
    "# 两种情况下相对于0的显著性\n",
    "T_obs_fast, clusters_fast, cluster_p_values_fast, H0_fast  = mne.stats.permutation_cluster_1samp_test(all_smooth_hgb_fast_crop.data, \n",
    "                                                    out_type='mask',n_permutations=n_permutations, t_power=1, n_jobs=4, tail=0, verbose=None)\n",
    "\n",
    "T_obs_slow, clusters_slow, cluster_p_values_slow, H0_slow  = mne.stats.permutation_cluster_1samp_test(all_smooth_hgb_slow_crop.data, \n",
    "                                                    out_type='mask',n_permutations=n_permutations, t_power=1, n_jobs=4, tail=0, verbose=None)\n",
    "\n",
    "# 两者之间的显著性\n",
    "T_obs, clusters, cluster_p_values, H0 = mne.stats.permutation_cluster_test([all_smooth_hgb_slow_crop.data, all_smooth_hgb_fast_crop.data],\n",
    "                                                                out_type='mask', n_permutations=n_permutations, n_jobs=4,tail=0\n",
    "                                                                ,verbose=None, t_power=1)\n"
   ]
  },
  {
   "cell_type": "code",
   "execution_count": 5,
   "metadata": {},
   "outputs": [
    {
     "data": {
      "text/plain": [
       "(array([-0.2,  0. ,  0.2,  0.4,  0.6,  0.8,  1. ,  1.2]),\n",
       " [Text(0, 0, ''),\n",
       "  Text(0, 0, ''),\n",
       "  Text(0, 0, ''),\n",
       "  Text(0, 0, ''),\n",
       "  Text(0, 0, ''),\n",
       "  Text(0, 0, ''),\n",
       "  Text(0, 0, ''),\n",
       "  Text(0, 0, '')])"
      ]
     },
     "execution_count": 5,
     "metadata": {},
     "output_type": "execute_result"
    },
    {
     "data": {
      "image/png": "[encoded data removed]",
      "text/plain": [
       "<Figure size 720x432 with 1 Axes>"
      ]
     },
     "metadata": {
      "needs_background": "light"
     },
     "output_type": "display_data"
    }
   ],
   "source": [
    "# line_color = ['#E36A65','#5CBBBF']    # 红色湖蓝色 正确快攻击，正确慢攻击 \n",
    "line_color = ['#E36A65','#FF943C']    # 红色橙色 正确快攻击，错误快攻击  DE6B48  FFADC6\n",
    "# line_color = ['#5CBBBF','#4482CD']    #  正确慢攻击，过快慢攻击  DE6B48  FFADC6\n",
    "# line_color = ['#FF943C','#4482CD']    #  错误快攻击，过快慢攻击  DE6B48  FFADC6\n",
    "\n",
    "figsize=(10,6) \n",
    "title_size=20\n",
    "legend_size=15\n",
    "\n",
    "ticksize=10\n",
    "subplots_adjust=[0.15, 0.15, 0.85, 0.85]\n",
    "\n",
    "\n",
    "import matplotlib.pyplot as plt\n",
    "import numpy as np\n",
    "import os\n",
    "\n",
    "\n",
    "event_0_line_color = line_color[0]\n",
    "event_1_line_color = line_color[1]\n",
    "\n",
    "# the number of time axis\n",
    "times = all_smooth_hgb_slow.times\n",
    "\n",
    "plt.close('all')\n",
    "plt.rcParams['figure.figsize'] = figsize # 设置figure_size尺寸\n",
    "# plt.title('ROI: '+ roi_name, fontdict={'fontsize':title_size})\n",
    "\n",
    "epoch_mean={}\n",
    "epoch_mean[0] = np.squeeze(np.average(all_smooth_hgb_fast.data, axis=0))\n",
    "epoch_mean[1] = np.squeeze(np.average(all_smooth_hgb_slow.data, axis=0))\n",
    "\n",
    "plt.plot(times, epoch_mean[0], color=line_color[0], alpha=0.9, linewidth=4) # , linestyle='--')\n",
    "plt.plot(times, epoch_mean[1], color=line_color[1], alpha=0.9, linewidth=4) # , linestyle='--')\n",
    "\n",
    "\n",
    "# Draw the dividing line at 0s \n",
    "plt.axvline(times[101], c=\"gray\", ls = \"dashed\")\n",
    "plt.axvline(times[601], c=\"gray\", ls = \"dashed\")\n",
    "plt.plot(times, np.zeros(len(epoch_mean[0])), color=\"gray\", linestyle=\"--\")\n",
    "\n",
    "# Drawing error (std)\n",
    "std_event0 = np.squeeze(np.std(all_smooth_hgb_fast.data, axis=0))\n",
    "std_event1 = np.squeeze(np.std(all_smooth_hgb_slow.data, axis=0))\n",
    "\n",
    "se_event0 = std_event0/np.sqrt(all_smooth_hgb_fast.data.shape[0])\n",
    "se_event1 = std_event1/np.sqrt(all_smooth_hgb_fast.data.shape[0])\n",
    "\n",
    "plt.fill_between(times, epoch_mean[0] - se_event0, epoch_mean[0] + se_event0, color=line_color[0], alpha=0.2)\n",
    "plt.fill_between(times, epoch_mean[1] - se_event1, epoch_mean[1] + se_event1, color=line_color[1], alpha=0.2)\n",
    "\n",
    "# condition 0 to baseline\n",
    "for i_c, c in enumerate(clusters_fast):\n",
    "    c = c[0]\n",
    "    if cluster_p_values_fast[i_c] <= 0.05:\n",
    "        # plt.axvspan(times[c.start], times[c.stop - 1], color='r', alpha=0.3)\n",
    "        plt.plot(times[c.start : c.stop - 1], epoch_mean[0][c.start : c.stop-1], color=event_0_line_color, alpha=0.9, linewidth=10)\n",
    "# condition 1 to baseline\n",
    "for i_c, c in enumerate(clusters_slow):\n",
    "    c = c[0]\n",
    "    if cluster_p_values_slow[i_c] <= 0.05:\n",
    "        # plt.axvspan(times[c.start], times[c.stop - 1], color='r', alpha=0.3)\n",
    "        plt.plot(times[c.start : c.stop - 1], epoch_mean[1][c.start : c.stop-1], color=event_1_line_color, alpha=0.9, linewidth=10)\n",
    "\n",
    "# condition 0 and condition 1\n",
    "for i_c, c in enumerate(clusters):\n",
    "    c = c[0]\n",
    "    if cluster_p_values[i_c] <= 0.05:\n",
    "        \n",
    "        plt.plot(times[c.start : c.stop - 1], -0.05 * np.ones(len(epoch_mean[0]))[c.start : c.stop-1], color='#5EACFF', alpha=0.9, linewidth=10)\n",
    "\n",
    "#hf = plt.plot(times, T_obs, 'g')\n",
    "#plt.legend((h, ), ('cluster p-value < 0.05', ))\n",
    "plt.subplots_adjust(left=subplots_adjust[0], bottom=subplots_adjust[1], right=subplots_adjust[2], top=subplots_adjust[3], hspace=0.1,wspace=0.1)\n",
    "\n",
    "plt.xlim([times[0]-0.02, times[-1]+0.02])\n",
    "\n",
    "plt.yticks(size=ticksize)\n",
    "plt.xticks(size=ticksize)\n",
    "\n",
    "spines_width = 3\n",
    "ax=plt.gca()\n",
    "ax.spines['top'].set_linewidth(0)\n",
    "ax.spines['right'].set_linewidth(0)\n",
    "ax.spines['left'].set_linewidth(spines_width)\n",
    "ax.spines['bottom'].set_linewidth(spines_width)\n",
    "# sns.despine()\n",
    "\n",
    "\n",
    "# Axis scale thickness, facing inward\n",
    "plt.rcParams['xtick.major.size'] = 5\n",
    "plt.rcParams['ytick.major.size'] = 5\n",
    "plt.rcParams['xtick.major.width'] = 2.5\n",
    "plt.rcParams['ytick.major.width'] = 2.5\n",
    "plt.rcParams['xtick.direction'] = 'in'\n",
    "plt.rcParams['ytick.direction'] = 'in'\n",
    "# plt.set_ylabel(\"Escape Accuracy\", size=ticksize, fontproperties='Arial')\n",
    "\n",
    "labelsize=25\n",
    "plt.xlabel(\"time (s)\", fontsize=labelsize, fontproperties='Arial')\n",
    "plt.ylabel(\"HGA\", size=labelsize, fontproperties='Arial')\n",
    "\n",
    "# The thickness of coordinates\n",
    "ticksize = 20\n",
    "plt.yticks(size=ticksize, fontproperties='Arial')\n",
    "plt.xticks(size=ticksize, fontproperties='Arial')\n",
    "# plt.savefig(r'D:\\Desktop\\项目\\seeg\\画图\\hga_all\\stimuli_insula.jpg',dpi=300, overwrite=True)\n",
    "\n",
    "# plt.savefig(result_path + '/' + permutation_cluster_result['ROI_name'][ROI_num] + \".png\", overwrite=True)"
   ]
  },
  {
   "cell_type": "code",
   "execution_count": null,
   "metadata": {},
   "outputs": [],
   "source": []
  }
 ],
 "metadata": {
  "kernelspec": {
   "display_name": "Python 3.8.10 ('data_process')",
   "language": "python",
   "name": "python3"
  },
  "language_info": {
   "codemirror_mode": {
    "name": "ipython",
    "version": 3
   },
   "file_extension": ".py",
   "mimetype": "text/x-python",
   "name": "python",
   "nbconvert_exporter": "python",
   "pygments_lexer": "ipython3",
   "version": "3.8.10"
  },
  "orig_nbformat": 4,
  "vscode": {
   "interpreter": {
    "hash": "e42a79a1870fa07565d5bc2e72f1621e5b43aa8aa9140a304683a047737fef4c"
   }
  }
 },
 "nbformat": 4,
 "nbformat_minor": 2
}
