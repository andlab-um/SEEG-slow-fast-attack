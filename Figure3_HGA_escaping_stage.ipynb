{
 "cells": [
  {
   "cell_type": "code",
   "execution_count": 2,
   "metadata": {},
   "outputs": [],
   "source": [
    "\n",
    "import matplotlib.pyplot as plt\n",
    "import nibabel as nib\n",
    "import pandas as pd\n",
    "import numpy as np\n",
    "import scipy.io \n",
    "import mne\n",
    "import os\n",
    "import sys\n",
    "sys.path.insert(0, 'E:/workspace/my_py_toolbox/')\n",
    "from hm_tools import *\n",
    "\n",
    "behavior_path = r\"E:/workspace/sEEG_slow_fast_attack/event/\"\n",
    "\n",
    "in_path = r\"E:/workspace/sEEG_slow_fast_attack/roi_data/amy/\" # 分析哪个roi就输入哪个文件夹的数据\n",
    "\n",
    "# subjects = [104, 108, 116, 117, 119, 120] # vmpfc \n",
    "subjects= [104, 108, 113, 116, 117, 119, 120, 122] # amy \n",
    "# subjects = [104, 108, 109, 112, 113, 116, 117, 119, 120, 124]  # hippo \n",
    "# subjects = [109, 116, 119, 120, 122] # striatum  \n",
    "# subjects = [104, 119, 122, 123, 124] # mcc    \n",
    "# subjects = [104, 108, 109, 112, 113, 116, 117, 119, 120, 122, 124] # insula\n",
    "\n",
    "\n",
    "def gaussian_filter(data, time_span=50, fs=1000, axis=-1):\n",
    "\n",
    "    # time_span: the length of the window (ms)\n",
    "    from scipy import signal, ndimage\n",
    "\n",
    "    winsize = time_span * fs / 1000\n",
    "\n",
    "    # create a window(kernel) with value follow a gaussian distrubution\n",
    "    window = signal.gaussian(winsize,std = int((winsize)/5) ) # Note! In matlab function 'gausswin',the parameter is α(defaut = 2.5), here is std, std = winsize/2α\n",
    "\n",
    "    # Make the sum of the window = 1\n",
    "    gusWin = window/sum(window)\n",
    "\n",
    "    # convolve the last dimension\n",
    "    data_filtered = ndimage.convolve1d(input=data, weights=gusWin, axis=axis, mode='nearest', origin=0)\n",
    "\n",
    "    return data_filtered"
   ]
  },
  {
   "cell_type": "code",
   "execution_count": 17,
   "metadata": {},
   "outputs": [
    {
     "name": "stdout",
     "output_type": "stream",
     "text": [
      "Extracting parameters from E:/workspace/sEEG_slow_fast_attack/roi_data/amy/104.set...\n",
      "Not setting metadata\n",
      "Not setting metadata\n",
      "80 matching events found\n",
      "No baseline correction applied\n",
      "0 projection items activated\n",
      "Ready.\n"
     ]
    },
    {
     "name": "stdout",
     "output_type": "stream",
     "text": [
      "Not setting metadata\n",
      "Not setting metadata\n"
     ]
    },
    {
     "name": "stderr",
     "output_type": "stream",
     "text": [
      "<ipython-input-17-c5c21fe62b68>:22: RuntimeWarning: At least one epoch has multiple events. Only the latency of the first event will be retained.\n",
      "  ROI_epochs = mne.read_epochs_eeglab(in_path + str(subjects[i]) + '.set')\n"
     ]
    },
    {
     "name": "stdout",
     "output_type": "stream",
     "text": [
      "Applying baseline correction (mode: logratio)\n",
      "Applying baseline correction (mode: logratio)\n",
      "(1, 1201)\n",
      "Extracting parameters from E:/workspace/sEEG_slow_fast_attack/roi_data/amy/108.set...\n",
      "Not setting metadata\n",
      "Not setting metadata\n",
      "80 matching events found\n",
      "No baseline correction applied\n",
      "0 projection items activated\n",
      "Ready.\n"
     ]
    },
    {
     "name": "stderr",
     "output_type": "stream",
     "text": [
      "<ipython-input-17-c5c21fe62b68>:22: RuntimeWarning: At least one epoch has multiple events. Only the latency of the first event will be retained.\n",
      "  ROI_epochs = mne.read_epochs_eeglab(in_path + str(subjects[i]) + '.set')\n"
     ]
    },
    {
     "name": "stdout",
     "output_type": "stream",
     "text": [
      "Not setting metadata\n",
      "Not setting metadata\n",
      "Applying baseline correction (mode: logratio)\n",
      "Applying baseline correction (mode: logratio)\n",
      "(3, 1201)\n",
      "Extracting parameters from E:/workspace/sEEG_slow_fast_attack/roi_data/amy/113.set...\n",
      "Not setting metadata\n",
      "Not setting metadata\n",
      "80 matching events found\n",
      "No baseline correction applied\n",
      "0 projection items activated\n",
      "Ready.\n",
      "Not setting metadata\n"
     ]
    },
    {
     "name": "stderr",
     "output_type": "stream",
     "text": [
      "<ipython-input-17-c5c21fe62b68>:22: RuntimeWarning: At least one epoch has multiple events. Only the latency of the first event will be retained.\n",
      "  ROI_epochs = mne.read_epochs_eeglab(in_path + str(subjects[i]) + '.set')\n"
     ]
    },
    {
     "name": "stdout",
     "output_type": "stream",
     "text": [
      "Not setting metadata\n",
      "Applying baseline correction (mode: logratio)\n",
      "Applying baseline correction (mode: logratio)\n",
      "(3, 1201)\n",
      "Extracting parameters from E:/workspace/sEEG_slow_fast_attack/roi_data/amy/116.set...\n",
      "Not setting metadata\n",
      "Not setting metadata\n",
      "80 matching events found\n",
      "No baseline correction applied\n",
      "0 projection items activated\n",
      "Ready.\n"
     ]
    },
    {
     "name": "stderr",
     "output_type": "stream",
     "text": [
      "<ipython-input-17-c5c21fe62b68>:22: RuntimeWarning: At least one epoch has multiple events. Only the latency of the first event will be retained.\n",
      "  ROI_epochs = mne.read_epochs_eeglab(in_path + str(subjects[i]) + '.set')\n"
     ]
    },
    {
     "name": "stdout",
     "output_type": "stream",
     "text": [
      "Not setting metadata\n",
      "Not setting metadata\n",
      "Applying baseline correction (mode: logratio)\n",
      "Applying baseline correction (mode: logratio)\n",
      "(4, 1201)\n",
      "Extracting parameters from E:/workspace/sEEG_slow_fast_attack/roi_data/amy/117.set...\n",
      "Not setting metadata\n",
      "Not setting metadata\n",
      "80 matching events found\n",
      "No baseline correction applied\n",
      "0 projection items activated\n",
      "Ready.\n"
     ]
    },
    {
     "name": "stderr",
     "output_type": "stream",
     "text": [
      "<ipython-input-17-c5c21fe62b68>:22: RuntimeWarning: At least one epoch has multiple events. Only the latency of the first event will be retained.\n",
      "  ROI_epochs = mne.read_epochs_eeglab(in_path + str(subjects[i]) + '.set')\n"
     ]
    },
    {
     "name": "stdout",
     "output_type": "stream",
     "text": [
      "Not setting metadata\n",
      "Not setting metadata\n",
      "Applying baseline correction (mode: logratio)\n",
      "Applying baseline correction (mode: logratio)\n",
      "(5, 1201)\n",
      "Extracting parameters from E:/workspace/sEEG_slow_fast_attack/roi_data/amy/119.set...\n",
      "Not setting metadata\n",
      "Not setting metadata\n",
      "80 matching events found\n",
      "No baseline correction applied\n",
      "0 projection items activated\n",
      "Ready.\n"
     ]
    },
    {
     "name": "stderr",
     "output_type": "stream",
     "text": [
      "<ipython-input-17-c5c21fe62b68>:22: RuntimeWarning: At least one epoch has multiple events. Only the latency of the first event will be retained.\n",
      "  ROI_epochs = mne.read_epochs_eeglab(in_path + str(subjects[i]) + '.set')\n"
     ]
    },
    {
     "name": "stdout",
     "output_type": "stream",
     "text": [
      "Not setting metadata\n",
      "Not setting metadata\n",
      "Applying baseline correction (mode: logratio)\n",
      "Applying baseline correction (mode: logratio)\n",
      "(7, 1201)\n",
      "Extracting parameters from E:/workspace/sEEG_slow_fast_attack/roi_data/amy/120.set...\n",
      "Not setting metadata\n",
      "Not setting metadata\n",
      "80 matching events found\n",
      "No baseline correction applied\n",
      "0 projection items activated\n",
      "Ready.\n"
     ]
    },
    {
     "name": "stderr",
     "output_type": "stream",
     "text": [
      "<ipython-input-17-c5c21fe62b68>:22: RuntimeWarning: At least one epoch has multiple events. Only the latency of the first event will be retained.\n",
      "  ROI_epochs = mne.read_epochs_eeglab(in_path + str(subjects[i]) + '.set')\n"
     ]
    },
    {
     "name": "stdout",
     "output_type": "stream",
     "text": [
      "Not setting metadata\n",
      "Not setting metadata\n",
      "Applying baseline correction (mode: logratio)\n",
      "Applying baseline correction (mode: logratio)\n",
      "(6, 1201)\n",
      "Extracting parameters from E:/workspace/sEEG_slow_fast_attack/roi_data/amy/122.set...\n",
      "Not setting metadata\n",
      "Not setting metadata\n",
      "80 matching events found\n",
      "No baseline correction applied\n",
      "0 projection items activated\n",
      "Ready.\n",
      "Not setting metadata\n"
     ]
    },
    {
     "name": "stderr",
     "output_type": "stream",
     "text": [
      "<ipython-input-17-c5c21fe62b68>:22: RuntimeWarning: At least one epoch has multiple events. Only the latency of the first event will be retained.\n",
      "  ROI_epochs = mne.read_epochs_eeglab(in_path + str(subjects[i]) + '.set')\n"
     ]
    },
    {
     "name": "stdout",
     "output_type": "stream",
     "text": [
      "Not setting metadata\n",
      "Applying baseline correction (mode: logratio)\n",
      "Applying baseline correction (mode: logratio)\n",
      "(3, 1201)\n"
     ]
    }
   ],
   "source": [
    "from mne.time_frequency import tfr_morlet\n",
    "\n",
    "# fast escaped trials '1/5/6'\n",
    "# fast captured trials '2/5/7/8'\n",
    "# slow escaped trials '3/5/6'\n",
    "# slow premature trials '10/5/6'\n",
    "# slow captured trials '4/5/7/8'\n",
    "\n",
    "\n",
    "freqs=np.arange(70, 120, 5)\n",
    "n_cycles=10\n",
    "time_span = 100\n",
    "ch_names = []\n",
    "decision_time_range = [-0.5, 0.4] # before and after decision  0.9\n",
    "baseline_range = [-0.2, 0.1]  # before and after baseline 0.3s\n",
    "\n",
    "# time series\n",
    "time_range = np.arange(baseline_range[0]-baseline_range[1] + decision_time_range[0], decision_time_range[1], 0.001)\n",
    "for i in range(len(subjects)):\n",
    "\n",
    "    # import eeg data\n",
    "    ROI_epochs = mne.read_epochs_eeglab(in_path + str(subjects[i]) + '.set')\n",
    "    # correct some wrong event number\n",
    "    if subjects[i]==108:\n",
    "        ROI_epochs.events[61, 2] = 3\n",
    "    if subjects[i]==119:\n",
    "        ROI_epochs.events[49, 2] = 1\n",
    "    if subjects[i]==109:\n",
    "        ROI_epochs.events[4, 2] = 1\n",
    "    # import event inform\n",
    "    each_trial_information = pd.read_table(behavior_path + str(subjects[i]) + \"each_trial_information.txt\", delimiter=\" \")\n",
    "    fast_trial_information = each_trial_information[each_trial_information['trial_condition']==1]\n",
    "    slow_trial_information = each_trial_information[each_trial_information['trial_condition']==3]\n",
    "    # calculate tfr\n",
    "    tfr_ROI_epoch_fast = tfr_morlet(ROI_epochs['1/5/6'], freqs, n_cycles=n_cycles, return_itc=False, average = False, use_fft=True)\n",
    "    tfr_ROI_epoch_slow = tfr_morlet(ROI_epochs['3/5/6'], freqs, n_cycles=n_cycles, return_itc=False, average = False, use_fft=True)\n",
    "\n",
    "    # cut the baseline range  baseline_range\n",
    "    tfr_ROI_epoch_fast_baseline_data = tfr_ROI_epoch_fast.copy().crop(baseline_range[0], baseline_range[1]).data\n",
    "    tfr_ROI_epoch_slow_baseline_data = tfr_ROI_epoch_slow.copy().crop(baseline_range[0], baseline_range[1]).data\n",
    "\n",
    "    # fast attack\n",
    "    # Divide the decision response into two conditions for pre - and post capture, followed by alignment, and then generate new mne tfr data\n",
    "    for iter_trial in range(tfr_ROI_epoch_fast_baseline_data.shape[0]):\n",
    "\n",
    "        # Determine the time window to be intercepted for each trial by combining the data from each trial\n",
    "        iter_trialtime = decision_time_range + np.array(fast_trial_information['escape_time'])[iter_trial]\n",
    "        # cut the data\n",
    "        iter_fast_decision_data = tfr_ROI_epoch_fast.copy()[iter_trial].crop(iter_trialtime[0], iter_trialtime[1]-0.001).data\n",
    "\n",
    "        # load the data \n",
    "        if iter_trial == 0: \n",
    "            iter_subject_fast_decision_data = iter_fast_decision_data\n",
    "        else: \n",
    "            iter_subject_fast_decision_data = np.vstack((iter_subject_fast_decision_data, iter_fast_decision_data))\n",
    "\n",
    "    # slow attack\n",
    "    discarded_trial = []\n",
    "    empty_or_not = 0\n",
    "    for iter_trial in range(tfr_ROI_epoch_slow_baseline_data.shape[0]):\n",
    "\n",
    "        # Determine the time window to be intercepted for each trial by combining the data from each trial\n",
    "        iter_trialtime = decision_time_range + np.array(slow_trial_information['escape_time'])[iter_trial]\n",
    "        if iter_trialtime[1] < 4-0.5: # A trial that takes too long won't be needed\n",
    "            # cut the data\n",
    "            iter_slow_decision_data = tfr_ROI_epoch_slow.copy()[iter_trial].crop(iter_trialtime[0], iter_trialtime[1]-0.001).data\n",
    "\n",
    "            # load the data\n",
    "            if empty_or_not == 0: \n",
    "                iter_subject_slow_decision_data = iter_slow_decision_data\n",
    "                empty_or_not = 1\n",
    "            else: \n",
    "                iter_subject_slow_decision_data = np.vstack((iter_subject_slow_decision_data, iter_slow_decision_data))\n",
    "        else:\n",
    "            discarded_trial.append(iter_trial)\n",
    "\n",
    "    # Merge data from base segment and selection segment, delete data that is too long in slow attack trials\n",
    "    iter_subject_fast_data = np.concatenate((tfr_ROI_epoch_fast_baseline_data, iter_subject_fast_decision_data), axis=3)\n",
    "    iter_subject_slow_data = np.concatenate((np.delete(tfr_ROI_epoch_slow_baseline_data, discarded_trial, axis=0), iter_subject_slow_decision_data), axis=3)\n",
    "\n",
    "    # Prepare the tfr file for generating mne for baseline correction\n",
    "    info = mne.create_info(ch_names = ROI_epochs.ch_names, ch_types = 'eeg', sfreq = 1000)\n",
    "    # Average all trials\n",
    "    all_fast_mean_data = np.mean(iter_subject_fast_data, axis=0)\n",
    "    all_slow_mean_data = np.mean(iter_subject_slow_data, axis=0)\n",
    "    # Generate tfr files for mne\n",
    "    all_fast_mean_tfr = mne.time_frequency.AverageTFR(info=info, data=all_fast_mean_data, times=time_range, freqs=freqs, nave=1)\n",
    "    all_slow_mean_tfr = mne.time_frequency.AverageTFR(info=info, data=all_slow_mean_data, times=time_range, freqs=freqs, nave=1)\n",
    "\n",
    "    # \n",
    "    all_fast_mean_tfr.apply_baseline(mode='logratio', baseline=(baseline_range[0]-baseline_range[1]+decision_time_range[0]+0.1, baseline_range[0]-baseline_range[1]+decision_time_range[0]+0.2)) # 'mean' | 'ratio' | 'logratio' | 'percent' | 'zscore' | 'zlogratio'\n",
    "    all_slow_mean_tfr.apply_baseline(mode='logratio', baseline=(baseline_range[0]-baseline_range[1]+decision_time_range[0]+0.1, baseline_range[0]-baseline_range[1]+decision_time_range[0]+0.2)) # 'mean' | 'ratio' | 'logratio' | 'percent' | 'zscore' | 'zlogratio'\n",
    "    # Gaussian filter\n",
    "    smooth_hgb_fast_data = gaussian_filter(data=np.mean(all_fast_mean_tfr.data,axis=1), time_span=time_span, fs=ROI_epochs.info['sfreq'])\n",
    "    smooth_hgb_slow_data = gaussian_filter(data=np.mean(all_slow_mean_tfr.data,axis=1), time_span=time_span, fs=ROI_epochs.info['sfreq'])\n",
    "    # 得到的数据: trial, channel, time\n",
    "  \n",
    "    if i == 0:\n",
    "        all_smooth_hgb_fast_data = smooth_hgb_fast_data\n",
    "        all_smooth_hgb_slow_data = smooth_hgb_slow_data\n",
    "        ch_names = np.array(ROI_epochs.ch_names)\n",
    "    else:\n",
    "        all_smooth_hgb_fast_data = np.vstack((all_smooth_hgb_fast_data, smooth_hgb_fast_data))\n",
    "        all_smooth_hgb_slow_data = np.vstack((all_smooth_hgb_slow_data, smooth_hgb_slow_data))\n",
    "        ch_names = np.hstack((ch_names, np.array(ROI_epochs.ch_names)))\n",
    "\n",
    "    print(smooth_hgb_slow_data.shape)"
   ]
  },
  {
   "cell_type": "code",
   "execution_count": 18,
   "metadata": {},
   "outputs": [
    {
     "data": {
      "text/plain": [
       "(32, 1201)"
      ]
     },
     "execution_count": 18,
     "metadata": {},
     "output_type": "execute_result"
    }
   ],
   "source": [
    "all_smooth_hgb_fast_data.data.shape"
   ]
  },
  {
   "cell_type": "code",
   "execution_count": 19,
   "metadata": {},
   "outputs": [
    {
     "data": {
      "text/plain": [
       "array([[ 0.2475419 ,  0.24784527,  0.24811758, ..., -0.03131388,\n",
       "        -0.0304748 , -0.02965706],\n",
       "       [ 0.16985491,  0.16908494,  0.1682489 , ...,  0.01214355,\n",
       "         0.01351492,  0.01487054],\n",
       "       [ 0.11127246,  0.11066241,  0.11002291, ..., -0.00262148,\n",
       "        -0.00314814, -0.00368294],\n",
       "       ...,\n",
       "       [-0.07888985, -0.07706799, -0.07514442, ..., -0.14912859,\n",
       "        -0.14912667, -0.14911661],\n",
       "       [-0.08794623, -0.08636739, -0.08466551, ...,  0.01937694,\n",
       "         0.02085236,  0.02228108],\n",
       "       [-0.04175185, -0.04133138, -0.04089518, ..., -0.00415308,\n",
       "        -0.00447905, -0.00483657]])"
      ]
     },
     "execution_count": 19,
     "metadata": {},
     "output_type": "execute_result"
    }
   ],
   "source": [
    "all_smooth_hgb_slow_data"
   ]
  },
  {
   "cell_type": "code",
   "execution_count": 23,
   "metadata": {},
   "outputs": [
    {
     "name": "stdout",
     "output_type": "stream",
     "text": [
      "Applying baseline correction (mode: mean)\n",
      "Applying baseline correction (mode: mean)\n",
      "Using a threshold of 2.039513\n",
      "stat_fun(H1): min=0.161672 max=5.496032\n",
      "Running initial clustering\n",
      "Found 7 clusters\n",
      "Permuting 9999 times...\n"
     ]
    },
    {
     "name": "stderr",
     "output_type": "stream",
     "text": [
      "100%|██████████|  : 9999/9999 [00:00<00:00, 12081.08it/s]\n"
     ]
    },
    {
     "name": "stdout",
     "output_type": "stream",
     "text": [
      "Computing cluster p-values\n",
      "Done.\n",
      "Using a threshold of 2.039513\n",
      "stat_fun(H1): min=-3.245949 max=2.834216\n",
      "Running initial clustering\n",
      "Found 3 clusters\n",
      "Permuting 9999 times...\n"
     ]
    },
    {
     "name": "stderr",
     "output_type": "stream",
     "text": [
      "100%|██████████|  : 9999/9999 [00:00<00:00, 13267.43it/s]\n"
     ]
    },
    {
     "name": "stdout",
     "output_type": "stream",
     "text": [
      "Computing cluster p-values\n",
      "Done.\n",
      "Using a threshold of 3.995887\n",
      "stat_fun(H1): min=0.000001 max=17.954852\n",
      "Running initial clustering\n",
      "Found 4 clusters\n",
      "Permuting 9999 times...\n"
     ]
    },
    {
     "name": "stderr",
     "output_type": "stream",
     "text": [
      "<ipython-input-23-074d36f4fed5>:29: RuntimeWarning: Ignoring argument \"tail\", performing 1-tailed F-test\n",
      "  T_obs, clusters, cluster_p_values, H0 = mne.stats.permutation_cluster_test([all_smooth_hgb_slow_crop.data, all_smooth_hgb_fast_crop.data],\n",
      "100%|██████████|  : 9999/9999 [00:00<00:00, 10596.43it/s]"
     ]
    },
    {
     "name": "stdout",
     "output_type": "stream",
     "text": [
      "Computing cluster p-values\n",
      "Done.\n"
     ]
    },
    {
     "name": "stderr",
     "output_type": "stream",
     "text": [
      "\n"
     ]
    }
   ],
   "source": [
    "# create a new epochs info\n",
    "info_fast = mne.create_info(ch_names = list(np.arange(all_smooth_hgb_fast_data.shape[0]).astype('str')), ch_types = 'eeg', sfreq = 1000)\n",
    "info_slow = mne.create_info(ch_names = list(np.arange(all_smooth_hgb_slow_data.shape[0]).astype('str')), ch_types = 'eeg', sfreq = 1000)\n",
    "\n",
    "# create a new ROI based epochs\n",
    "all_smooth_hgb_fast = mne.EvokedArray(data = all_smooth_hgb_fast_data, info = info_fast, tmin=baseline_range[0]-baseline_range[1]+decision_time_range[0])\n",
    "all_smooth_hgb_slow = mne.EvokedArray(data = all_smooth_hgb_slow_data, info = info_slow, tmin=baseline_range[0]-baseline_range[1]+decision_time_range[0])\n",
    "all_smooth_hgb_fast.apply_baseline(baseline=(baseline_range[0]-baseline_range[1]+decision_time_range[0]+0.1, baseline_range[0]-baseline_range[1]+decision_time_range[0]+0.2))\n",
    "all_smooth_hgb_slow.apply_baseline(baseline=(baseline_range[0]-baseline_range[1]+decision_time_range[0]+0.1, baseline_range[0]-baseline_range[1]+decision_time_range[0]+0.2))\n",
    "\n",
    "times = all_smooth_hgb_slow.times\n",
    "\n",
    "all_smooth_hgb_fast_crop = all_smooth_hgb_fast\n",
    "all_smooth_hgb_slow_crop = all_smooth_hgb_slow\n",
    "\n",
    "all_smooth_hgb_fast_crop = all_smooth_hgb_fast_crop.crop(-0.4, 0.4)\n",
    "all_smooth_hgb_slow_crop = all_smooth_hgb_slow_crop.crop(-0.4, 0.4) \n",
    "\n",
    "n_permutations = 10000\n",
    "\n",
    "# 两种情况下相对于0的显著性\n",
    "T_obs_fast, clusters_fast, cluster_p_values_fast, H0_fast  = mne.stats.permutation_cluster_1samp_test(all_smooth_hgb_fast_crop.data, \n",
    "                                                    out_type='mask',n_permutations=n_permutations, n_jobs=6, tail=0, verbose=None)\n",
    "\n",
    "T_obs_slow, clusters_slow, cluster_p_values_slow, H0_slow  = mne.stats.permutation_cluster_1samp_test(all_smooth_hgb_slow_crop.data, \n",
    "                                                    out_type='mask',n_permutations=n_permutations, n_jobs=6, tail=0, verbose=None)\n",
    "\n",
    "# 两者之间的显著性\n",
    "T_obs, clusters, cluster_p_values, H0 = mne.stats.permutation_cluster_test([all_smooth_hgb_slow_crop.data, all_smooth_hgb_fast_crop.data],\n",
    "                                                                out_type='mask', n_permutations=n_permutations, n_jobs=6,tail=0\n",
    "                                                                ,verbose=None) \n"
   ]
  },
  {
   "cell_type": "code",
   "execution_count": 21,
   "metadata": {},
   "outputs": [
    {
     "data": {
      "text/plain": [
       "(32, 801)"
      ]
     },
     "execution_count": 21,
     "metadata": {},
     "output_type": "execute_result"
    }
   ],
   "source": [
    "all_smooth_hgb_slow_crop.data.shape"
   ]
  },
  {
   "cell_type": "code",
   "execution_count": 25,
   "metadata": {},
   "outputs": [
    {
     "data": {
      "text/plain": [
       "(array([-0.5, -0.4, -0.3, -0.2, -0.1,  0. ,  0.1,  0.2,  0.3,  0.4,  0.5]),\n",
       " [Text(0, 0, ''),\n",
       "  Text(0, 0, ''),\n",
       "  Text(0, 0, ''),\n",
       "  Text(0, 0, ''),\n",
       "  Text(0, 0, ''),\n",
       "  Text(0, 0, ''),\n",
       "  Text(0, 0, ''),\n",
       "  Text(0, 0, ''),\n",
       "  Text(0, 0, ''),\n",
       "  Text(0, 0, ''),\n",
       "  Text(0, 0, '')])"
      ]
     },
     "execution_count": 25,
     "metadata": {},
     "output_type": "execute_result"
    },
    {
     "data": {
      "image/png": "[encoded data removed]",
      "text/plain": [
       "<Figure size 720x432 with 1 Axes>"
      ]
     },
     "metadata": {
      "needs_background": "light"
     },
     "output_type": "display_data"
    }
   ],
   "source": [
    "line_color = ['#E36A65','#5CBBBF']\n",
    "figsize=(10,6) \n",
    "title_size=20\n",
    "legend_size=15\n",
    "\n",
    "ticksize=10\n",
    "subplots_adjust=[0.15, 0.15, 0.85, 0.85]\n",
    "\n",
    "\n",
    "import matplotlib.pyplot as plt\n",
    "import numpy as np\n",
    "import os\n",
    "\n",
    "event_0_line_color = line_color[0]\n",
    "event_1_line_color = line_color[1]\n",
    "\n",
    "# the number of time axis\n",
    "times = all_smooth_hgb_slow.times\n",
    "\n",
    "plt.close('all')\n",
    "plt.rcParams['figure.figsize'] = figsize # 设置figure_size尺寸\n",
    "# plt.title('ROI: '+ roi_name, fontdict={'fontsize':title_size})\n",
    "\n",
    "epoch_mean={}\n",
    "epoch_mean[0] = np.squeeze(np.average(all_smooth_hgb_fast.data, axis=0))\n",
    "epoch_mean[1] = np.squeeze(np.average(all_smooth_hgb_slow.data, axis=0))\n",
    "\n",
    "plt.plot(times, epoch_mean[0], color=line_color[0], alpha=0.9, linewidth=4) # , linestyle='--')\n",
    "plt.plot(times, epoch_mean[1], color=line_color[1], alpha=0.9, linewidth=4) # , linestyle='--')\n",
    "\n",
    "\n",
    "plt.axvline(times[400], c=\"gray\", ls = \"dashed\")\n",
    "plt.plot(times, np.zeros(len(epoch_mean[0])), color=\"gray\", linestyle=\"--\")\n",
    "\n",
    "\n",
    "std_event0 = np.squeeze(np.std(all_smooth_hgb_fast.data, axis=0))\n",
    "std_event1 = np.squeeze(np.std(all_smooth_hgb_slow.data, axis=0))\n",
    "\n",
    "se_event0 = std_event0/np.sqrt(all_smooth_hgb_fast.data.shape[0])\n",
    "se_event1 = std_event1/np.sqrt(all_smooth_hgb_slow.data.shape[0])\n",
    "\n",
    "plt.fill_between(times, epoch_mean[0] - se_event0, epoch_mean[0] + se_event0, color=line_color[0], alpha=0.2)\n",
    "plt.fill_between(times, epoch_mean[1] - se_event1, epoch_mean[1] + se_event1, color=line_color[1], alpha=0.2)\n",
    "\n",
    "# condition 0 to baseline\n",
    "for i_c, c in enumerate(clusters_fast):\n",
    "    c = c[0]\n",
    "    if cluster_p_values_fast[i_c] <= 0.05:\n",
    "        # plt.axvspan(times[c.start], times[c.stop - 1], color='r', alpha=0.3)\n",
    "        plt.plot(times[c.start : c.stop - 1], epoch_mean[0][c.start : c.stop-1], color=event_0_line_color, alpha=0.9, linewidth=10)\n",
    "# condition 1 to baseline\n",
    "for i_c, c in enumerate(clusters_slow):\n",
    "    c = c[0]\n",
    "    if cluster_p_values_slow[i_c] <= 0.05:\n",
    "        # plt.axvspan(times[c.start], times[c.stop - 1], color='r', alpha=0.3)\n",
    "        plt.plot(times[c.start : c.stop - 1], epoch_mean[1][c.start : c.stop-1], color=event_1_line_color, alpha=0.9, linewidth=10)\n",
    "\n",
    "# condition 0 and condition 1\n",
    "for i_c, c in enumerate(clusters):\n",
    "    c = c[0]\n",
    "    if cluster_p_values[i_c] <= 0.05:\n",
    "        \n",
    "        plt.plot(times[c.start : c.stop - 1], -0.05 * np.ones(len(epoch_mean[0]))[c.start : c.stop-1], color='#5EACFF', alpha=0.9, linewidth=10)\n",
    "\n",
    "\n",
    "plt.subplots_adjust(left=subplots_adjust[0], bottom=subplots_adjust[1], right=subplots_adjust[2], top=subplots_adjust[3], hspace=0.1,wspace=0.1)\n",
    "\n",
    "plt.xlim([times[0]-0.01, times[-1]+0.01])\n",
    "\n",
    "plt.yticks(size=ticksize)\n",
    "plt.xticks(size=ticksize)\n",
    "\n",
    "spines_width = 3\n",
    "ax=plt.gca()\n",
    "ax.spines['top'].set_linewidth(0)\n",
    "ax.spines['right'].set_linewidth(0)\n",
    "ax.spines['left'].set_linewidth(spines_width)\n",
    "ax.spines['bottom'].set_linewidth(spines_width)\n",
    "\n",
    "\n",
    "# 坐标轴刻度粗细,朝内\n",
    "plt.rcParams['xtick.major.size'] = 5\n",
    "plt.rcParams['ytick.major.size'] = 5\n",
    "plt.rcParams['xtick.major.width'] = 2.5\n",
    "plt.rcParams['ytick.major.width'] = 2.5\n",
    "plt.rcParams['xtick.direction'] = 'in'\n",
    "plt.rcParams['ytick.direction'] = 'in'\n",
    "# plt.set_ylabel(\"Escape Accuracy\", size=ticksize, fontproperties='Arial')\n",
    "\n",
    "labelsize=25\n",
    "plt.xlabel(\"time (s)\", fontsize=labelsize, fontproperties='Arial')\n",
    "plt.ylabel(\"HGA\", size=labelsize, fontproperties='Arial')\n",
    "\n",
    "# 坐标的粗细\n",
    "ticksize = 20\n",
    "plt.yticks(size=ticksize, fontproperties='Arial')\n",
    "plt.xticks(size=ticksize, fontproperties='Arial')\n",
    "# plt.savefig(r'D:\\Desktop\\项目\\seeg\\画图\\hga_all\\mcc_decision.jpg',dpi=300, overwrite=True)\n",
    "# plt.savefig(result_path + '/' + permutation_cluster_result['ROI_name'][ROI_num] + \".png\", overwrite=True)"
   ]
  },
  {
   "cell_type": "code",
   "execution_count": null,
   "metadata": {},
   "outputs": [],
   "source": []
  }
 ],
 "metadata": {
  "kernelspec": {
   "display_name": "Python 3.8.10 ('data_process')",
   "language": "python",
   "name": "python3"
  },
  "language_info": {
   "codemirror_mode": {
    "name": "ipython",
    "version": 3
   },
   "file_extension": ".py",
   "mimetype": "text/x-python",
   "name": "python",
   "nbconvert_exporter": "python",
   "pygments_lexer": "ipython3",
   "version": "3.8.10"
  },
  "orig_nbformat": 4,
  "vscode": {
   "interpreter": {
    "hash": "e42a79a1870fa07565d5bc2e72f1621e5b43aa8aa9140a304683a047737fef4c"
   }
  }
 },
 "nbformat": 4,
 "nbformat_minor": 2
}
